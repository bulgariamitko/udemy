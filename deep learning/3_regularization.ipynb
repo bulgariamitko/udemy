{
 "cells": [
  {
   "cell_type": "markdown",
   "metadata": {
    "colab_type": "text",
    "deletable": true,
    "editable": true,
    "id": "kR-4eNdK6lYS"
   },
   "source": [
    "Deep Learning\n",
    "=============\n",
    "\n",
    "Assignment 3\n",
    "------------\n",
    "\n",
    "Previously in `2_fullyconnected.ipynb`, you trained a logistic regression and a neural network model.\n",
    "\n",
    "The goal of this assignment is to explore regularization techniques."
   ]
  },
  {
   "cell_type": "code",
   "execution_count": 2,
   "metadata": {
    "cellView": "both",
    "colab": {
     "autoexec": {
      "startup": false,
      "wait_interval": 0
     }
    },
    "colab_type": "code",
    "collapsed": true,
    "deletable": true,
    "editable": true,
    "id": "JLpLa8Jt7Vu4"
   },
   "outputs": [],
   "source": [
    "# These are all the modules we'll be using later. Make sure you can import them\n",
    "# before proceeding further.\n",
    "from __future__ import print_function\n",
    "import numpy as np\n",
    "import tensorflow as tf\n",
    "from six.moves import cPickle as pickle"
   ]
  },
  {
   "cell_type": "markdown",
   "metadata": {
    "colab_type": "text",
    "deletable": true,
    "editable": true,
    "id": "1HrCK6e17WzV"
   },
   "source": [
    "First reload the data we generated in `1_notmnist.ipynb`."
   ]
  },
  {
   "cell_type": "code",
   "execution_count": 3,
   "metadata": {
    "cellView": "both",
    "colab": {
     "autoexec": {
      "startup": false,
      "wait_interval": 0
     },
     "output_extras": [
      {
       "item_id": 1
      }
     ]
    },
    "colab_type": "code",
    "collapsed": false,
    "deletable": true,
    "editable": true,
    "executionInfo": {
     "elapsed": 11777,
     "status": "ok",
     "timestamp": 1449849322348,
     "user": {
      "color": "",
      "displayName": "",
      "isAnonymous": false,
      "isMe": true,
      "permissionId": "",
      "photoUrl": "",
      "sessionId": "0",
      "userId": ""
     },
     "user_tz": 480
    },
    "id": "y3-cj1bpmuxc",
    "outputId": "e03576f1-ebbe-4838-c388-f1777bcc9873"
   },
   "outputs": [
    {
     "name": "stdout",
     "output_type": "stream",
     "text": [
      "Training set (200000, 28, 28) (200000,)\n",
      "Validation set (10000, 28, 28) (10000,)\n",
      "Test set (10000, 28, 28) (10000,)\n"
     ]
    }
   ],
   "source": [
    "pickle_file = 'notMNIST.pickle'\n",
    "\n",
    "with open(pickle_file, 'rb') as f:\n",
    "  save = pickle.load(f)\n",
    "  train_dataset = save['train_dataset']\n",
    "  train_labels = save['train_labels']\n",
    "  valid_dataset = save['valid_dataset']\n",
    "  valid_labels = save['valid_labels']\n",
    "  test_dataset = save['test_dataset']\n",
    "  test_labels = save['test_labels']\n",
    "  del save  # hint to help gc free up memory\n",
    "  print('Training set', train_dataset.shape, train_labels.shape)\n",
    "  print('Validation set', valid_dataset.shape, valid_labels.shape)\n",
    "  print('Test set', test_dataset.shape, test_labels.shape)"
   ]
  },
  {
   "cell_type": "markdown",
   "metadata": {
    "colab_type": "text",
    "deletable": true,
    "editable": true,
    "id": "L7aHrm6nGDMB"
   },
   "source": [
    "Reformat into a shape that's more adapted to the models we're going to train:\n",
    "- data as a flat matrix,\n",
    "- labels as float 1-hot encodings."
   ]
  },
  {
   "cell_type": "code",
   "execution_count": 4,
   "metadata": {
    "cellView": "both",
    "colab": {
     "autoexec": {
      "startup": false,
      "wait_interval": 0
     },
     "output_extras": [
      {
       "item_id": 1
      }
     ]
    },
    "colab_type": "code",
    "collapsed": false,
    "deletable": true,
    "editable": true,
    "executionInfo": {
     "elapsed": 11728,
     "status": "ok",
     "timestamp": 1449849322356,
     "user": {
      "color": "",
      "displayName": "",
      "isAnonymous": false,
      "isMe": true,
      "permissionId": "",
      "photoUrl": "",
      "sessionId": "0",
      "userId": ""
     },
     "user_tz": 480
    },
    "id": "IRSyYiIIGIzS",
    "outputId": "3f8996ee-3574-4f44-c953-5c8a04636582"
   },
   "outputs": [
    {
     "name": "stdout",
     "output_type": "stream",
     "text": [
      "Training set (200000, 784) (200000, 10)\n",
      "Validation set (10000, 784) (10000, 10)\n",
      "Test set (10000, 784) (10000, 10)\n"
     ]
    }
   ],
   "source": [
    "image_size = 28\n",
    "num_labels = 10\n",
    "\n",
    "def reformat(dataset, labels):\n",
    "  dataset = dataset.reshape((-1, image_size * image_size)).astype(np.float32)\n",
    "  # Map 1 to [0.0, 1.0, 0.0 ...], 2 to [0.0, 0.0, 1.0 ...]\n",
    "  labels = (np.arange(num_labels) == labels[:,None]).astype(np.float32)\n",
    "  return dataset, labels\n",
    "train_dataset, train_labels = reformat(train_dataset, train_labels)\n",
    "valid_dataset, valid_labels = reformat(valid_dataset, valid_labels)\n",
    "test_dataset, test_labels = reformat(test_dataset, test_labels)\n",
    "print('Training set', train_dataset.shape, train_labels.shape)\n",
    "print('Validation set', valid_dataset.shape, valid_labels.shape)\n",
    "print('Test set', test_dataset.shape, test_labels.shape)"
   ]
  },
  {
   "cell_type": "code",
   "execution_count": 5,
   "metadata": {
    "cellView": "both",
    "colab": {
     "autoexec": {
      "startup": false,
      "wait_interval": 0
     }
    },
    "colab_type": "code",
    "collapsed": true,
    "deletable": true,
    "editable": true,
    "id": "RajPLaL_ZW6w"
   },
   "outputs": [],
   "source": [
    "def accuracy(predictions, labels):\n",
    "  return (100.0 * np.sum(np.argmax(predictions, 1) == np.argmax(labels, 1))\n",
    "          / predictions.shape[0])"
   ]
  },
  {
   "cell_type": "markdown",
   "metadata": {
    "colab_type": "text",
    "deletable": true,
    "editable": true,
    "id": "sgLbUAQ1CW-1"
   },
   "source": [
    "---\n",
    "Problem 1\n",
    "---------\n",
    "\n",
    "Introduce and tune L2 regularization for both logistic and neural network models. Remember that L2 amounts to adding a penalty on the norm of the weights to the loss. In TensorFlow, you can compute the L2 loss for a tensor `t` using `nn.l2_loss(t)`. The right amount of regularization should improve your validation / test accuracy.\n",
    "\n",
    "---"
   ]
  },
  {
   "cell_type": "code",
   "execution_count": 7,
   "metadata": {
    "collapsed": false
   },
   "outputs": [],
   "source": [
    "batch_size = 128\n",
    "loss_coef = .004\n",
    "\n",
    "graph = tf.Graph()\n",
    "with graph.as_default():\n",
    "\n",
    "  # Input data. For the training data, we use a placeholder that will be fed\n",
    "  # at run time with a training minibatch.\n",
    "  tf_train_dataset = tf.placeholder(tf.float32,\n",
    "                                    shape=(batch_size, image_size * image_size))\n",
    "  tf_train_labels = tf.placeholder(tf.float32, shape=(batch_size, num_labels))\n",
    "  tf_valid_dataset = tf.constant(valid_dataset)\n",
    "  tf_test_dataset = tf.constant(test_dataset)\n",
    "  \n",
    "  # Variables.\n",
    "  weights = tf.Variable(\n",
    "    tf.truncated_normal([image_size * image_size, num_labels]))\n",
    "  biases = tf.Variable(tf.zeros([num_labels]))\n",
    "  \n",
    "  # Training computation.\n",
    "  logits = tf.matmul(tf_train_dataset, weights) + biases\n",
    "  loss = tf.add(tf.reduce_mean(\n",
    "    tf.nn.softmax_cross_entropy_with_logits(logits=logits, labels=tf_train_labels)),loss_coef*tf.nn.l2_loss(weights))\n",
    "  \n",
    "  # Optimizer.\n",
    "  optimizer = tf.train.GradientDescentOptimizer(0.5).minimize(loss)\n",
    "  \n",
    "  # Predictions for the training, validation, and test data.\n",
    "  train_prediction = tf.nn.softmax(logits)\n",
    "  valid_prediction = tf.nn.softmax(\n",
    "    tf.matmul(tf_valid_dataset, weights) + biases)\n",
    "  test_prediction = tf.nn.softmax(tf.matmul(tf_test_dataset, weights) + biases)"
   ]
  },
  {
   "cell_type": "code",
   "execution_count": 9,
   "metadata": {
    "collapsed": false
   },
   "outputs": [
    {
     "name": "stdout",
     "output_type": "stream",
     "text": [
      "WARNING:tensorflow:From <ipython-input-9-878e7e110590>:4: initialize_all_variables (from tensorflow.python.ops.variables) is deprecated and will be removed after 2017-03-02.\n",
      "Instructions for updating:\n",
      "Use `tf.global_variables_initializer` instead.\n",
      "Initialized\n",
      "Validation accuracy: 14.9%\n",
      "Validation accuracy: 78.2%\n",
      "Validation accuracy: 80.5%\n",
      "Validation accuracy: 81.7%\n",
      "Validation accuracy: 81.7%\n",
      "Validation accuracy: 80.8%\n",
      "Validation accuracy: 81.7%\n",
      "Test accuracy: 89.0%\n"
     ]
    }
   ],
   "source": [
    "num_steps = 3001\n",
    "\n",
    "with tf.Session(graph=graph) as session:\n",
    "  tf.initialize_all_variables().run()\n",
    "  print(\"Initialized\")\n",
    "  for step in range(num_steps):\n",
    "    # Pick an offset within the training data, which has been randomized.\n",
    "    # Note: we could use better randomization across epochs.\n",
    "    offset = (step * batch_size) % (train_labels.shape[0] - batch_size)\n",
    "    # Generate a minibatch.\n",
    "    batch_data = train_dataset[offset:(offset + batch_size), :]\n",
    "    batch_labels = train_labels[offset:(offset + batch_size), :]\n",
    "    # Prepare a dictionary telling the session where to feed the minibatch.\n",
    "    # The key of the dictionary is the placeholder node of the graph to be fed,\n",
    "    # and the value is the numpy array to feed to it.\n",
    "    feed_dict = {tf_train_dataset : batch_data, tf_train_labels : batch_labels}\n",
    "    _, l, predictions = session.run(\n",
    "      [optimizer, loss, train_prediction], feed_dict=feed_dict)\n",
    "    if (step % 500 == 0):\n",
    "#       print(\"Minibatch loss at step %d: %f\" % (step, l))\n",
    "#       print(\"Minibatch accuracy: %.1f%%\" % accuracy(predictions, batch_labels))\n",
    "      print(\"Validation accuracy: %.1f%%\" % accuracy(\n",
    "        valid_prediction.eval(), valid_labels))\n",
    "  print(\"Test accuracy: %.1f%%\" % accuracy(test_prediction.eval(), test_labels))"
   ]
  },
  {
   "cell_type": "code",
   "execution_count": 11,
   "metadata": {
    "collapsed": false
   },
   "outputs": [],
   "source": [
    "batch_size = 128\n",
    "number_of_hidden_nodes = 1024\n",
    "loss_coef = .0001\n",
    "\n",
    "\n",
    "def generateWeight(shape):\n",
    "    initial = tf.truncated_normal(shape, stddev=.1)\n",
    "    return tf.Variable(initial)\n",
    "\n",
    "\n",
    "def generateBias(shape):\n",
    "    initial = tf.constant(.1, shape=shape)\n",
    "    return tf.Variable(initial)\n",
    "\n",
    "\n",
    "def conv2d(x, w):\n",
    "    return tf.nn.conv2d(x, w, strides=[1, 1, 1, 1], padding='SAME')\n",
    "\n",
    "\n",
    "def maxPool2x2(x):\n",
    "    return tf.nn.max_pool(x, ksize=[1, 2, 2, 1], strides=[1, 2, 2, 1], padding='SAME')\n",
    "\n",
    "graph = tf.Graph()\n",
    "with graph.as_default():\n",
    "\n",
    "    # Input data. For the training data, we use a placeholder that will be fed\n",
    "    # at run time with a training minibatch.\n",
    "    tf_train_dataset = tf.placeholder(tf.float32,\n",
    "                                      shape=(batch_size, image_size * image_size))\n",
    "    tf_train_labels = tf.placeholder(\n",
    "        tf.float32, shape=(batch_size, num_labels))\n",
    "    tf_valid_dataset = tf.constant(valid_dataset)\n",
    "    tf_test_dataset = tf.constant(test_dataset)\n",
    "\n",
    "    # Variables.\n",
    "    weights_1 = generateWeight(\n",
    "        [image_size * image_size, number_of_hidden_nodes])\n",
    "    biases_1 = generateBias([number_of_hidden_nodes])\n",
    "\n",
    "    layer_1 = tf.nn.relu(tf.matmul(tf_train_dataset, weights_1) + biases_1)\n",
    "    loss_1 = loss_coef * tf.nn.l2_loss(weights_1)\n",
    "\n",
    "    weights_2 = generateWeight([number_of_hidden_nodes, num_labels])\n",
    "    biases_2 = generateBias([num_labels])\n",
    "\n",
    "    logits = tf.matmul(layer_1, weights_2) + biases_2\n",
    "    layer_2 = tf.nn.softmax_cross_entropy_with_logits(logits=logits, labels=tf_train_labels)\n",
    "    loss_2 = loss_coef * tf.nn.l2_loss(weights_2)\n",
    "    loss = tf.add(tf.reduce_mean(layer_2), tf.add(loss_1, loss_2))\n",
    "\n",
    "    # Training computation.\n",
    "    # logits = tf.matmul(tf_train_dataset, weights) + biases\n",
    "    # loss = tf.reduce_mean(\n",
    "    #     tf.nn.softmax_cross_entropy_with_logits(logits, tf_train_labels))\n",
    "\n",
    "    # Optimizer.\n",
    "    optimizer = tf.train.GradientDescentOptimizer(0.5).minimize(loss)\n",
    "\n",
    "    # Predictions for the training, validation, and test data.\n",
    "    train_prediction = tf.nn.softmax(logits)\n",
    "    layer_1_valid = tf.nn.relu(\n",
    "        tf.matmul(tf_valid_dataset, weights_1) + biases_1)\n",
    "    valid_logits = tf.matmul(layer_1_valid, weights_2) + biases_2\n",
    "    valid_prediction = tf.nn.softmax(valid_logits)\n",
    "    layer_1_test = tf.nn.relu(tf.matmul(tf_test_dataset, weights_1) + biases_1)\n",
    "    test_logits = tf.matmul(layer_1_test, weights_2) + biases_2\n",
    "    test_prediction = tf.nn.softmax(test_logits)"
   ]
  },
  {
   "cell_type": "code",
   "execution_count": 12,
   "metadata": {
    "collapsed": false
   },
   "outputs": [
    {
     "name": "stdout",
     "output_type": "stream",
     "text": [
      "WARNING:tensorflow:From <ipython-input-12-c6738c6e1635>:4: initialize_all_variables (from tensorflow.python.ops.variables) is deprecated and will be removed after 2017-03-02.\n",
      "Instructions for updating:\n",
      "Use `tf.global_variables_initializer` instead.\n",
      "Initialized 0.0001\n",
      "8.6:30.9 | 85.2:82.0 | 85.2:83.2 | 81.2:83.5 | 89.1:84.5 | 87.5:84.1 | 92.2:85.2 | 86.7:84.8 | 85.2:85.7 | 86.7:86.3 | 85.9:86.0 | 82.8:86.6 | 79.7:85.8 | 89.1:86.7 | 86.7:85.8 | 86.7:87.1 | 83.6:85.0 | 88.3:86.9 | 89.8:87.0 | 87.5:87.3 | 85.9:87.9 | 87.5:88.0 | 92.2:86.8 | 86.7:85.7 | 89.8:87.3 | 94.5:87.7 | 92.2:87.5 | 89.8:87.5 | 92.2:87.7 | 88.3:88.2 | 91.4:87.9 | \n",
      "Test accuracy: 93.8%\n"
     ]
    }
   ],
   "source": [
    "num_steps = 3001\n",
    "\n",
    "with tf.Session(graph=graph) as session:\n",
    "  tf.initialize_all_variables().run()\n",
    "  print(\"Initialized\",loss_coef)\n",
    "  for step in range(num_steps):\n",
    "    # Pick an offset within the training data, which has been randomized.\n",
    "    # Note: we could use better randomization across epochs.\n",
    "    offset = (step * batch_size) % (train_labels.shape[0] - batch_size)\n",
    "    # Generate a minibatch.\n",
    "    batch_data = train_dataset[offset:(offset + batch_size), :]\n",
    "    batch_labels = train_labels[offset:(offset + batch_size), :]\n",
    "    # Prepare a dictionary telling the session where to feed the minibatch.\n",
    "    # The key of the dictionary is the placeholder node of the graph to be fed,\n",
    "    # and the value is the numpy array to feed to it.\n",
    "    feed_dict = {tf_train_dataset : batch_data, tf_train_labels : batch_labels}\n",
    "    _, l, predictions = session.run(\n",
    "      [optimizer, loss, train_prediction], feed_dict=feed_dict)\n",
    "    if (step % 100 == 0):\n",
    "#       print(\"Minibatch loss at step %d: %f\" % (step, l))\n",
    "#       print(\"Minibatch accuracy: %.1f%%\" % accuracy(predictions, batch_labels))\n",
    "#       print(\"Validation accuracy: %.1f%%\" % accuracy(\n",
    "#         valid_prediction.eval(), valid_labels))\n",
    "      print(\"%2.1f:%2.1f\" %(accuracy(predictions, batch_labels),accuracy(valid_prediction.eval(), valid_labels)),end=\" | \")\n",
    "\n",
    "  print(\"\\nTest accuracy: %.1f%%\" % accuracy(test_prediction.eval(), test_labels))"
   ]
  },
  {
   "cell_type": "code",
   "execution_count": 14,
   "metadata": {
    "collapsed": false
   },
   "outputs": [
    {
     "name": "stdout",
     "output_type": "stream",
     "text": [
      "WARNING:tensorflow:From <ipython-input-14-72aab98239ce>:58: initialize_all_variables (from tensorflow.python.ops.variables) is deprecated and will be removed after 2017-03-02.\n",
      "Instructions for updating:\n",
      "Use `tf.global_variables_initializer` instead.\n",
      "Initialized 0.1\n",
      "7.0:30.3 | 68.8:78.2 | 71.1:72.7 | 80.5:78.9 | 76.6:75.7 | 78.1:78.6 | 72.7:75.1 | 75.0:74.0 | 71.9:78.2 | 82.0:78.5 | 77.3:76.3 | \n",
      "Test accuracy: 84.1%\n",
      "WARNING:tensorflow:From <ipython-input-14-72aab98239ce>:58: initialize_all_variables (from tensorflow.python.ops.variables) is deprecated and will be removed after 2017-03-02.\n",
      "Instructions for updating:\n",
      "Use `tf.global_variables_initializer` instead.\n",
      "Initialized 0.01\n",
      "15.6:29.2 | 78.9:82.8 | 86.7:82.8 | 85.2:83.5 | 80.5:83.2 | 81.2:83.7 | 84.4:82.9 | 82.0:83.3 | 79.7:82.9 | 82.8:83.7 | 87.5:83.7 | \n",
      "Test accuracy: 90.2%\n",
      "WARNING:tensorflow:From <ipython-input-14-72aab98239ce>:58: initialize_all_variables (from tensorflow.python.ops.variables) is deprecated and will be removed after 2017-03-02.\n",
      "Instructions for updating:\n",
      "Use `tf.global_variables_initializer` instead.\n",
      "Initialized 0.001\n",
      "10.9:33.8 | 81.2:83.8 | 91.4:85.5 | 85.9:86.2 | 82.0:86.8 | 86.7:87.0 | 92.2:86.7 | 89.1:87.5 | 87.5:86.9 | 87.5:87.9 | 90.6:87.8 | \n",
      "Test accuracy: 94.2%\n",
      "WARNING:tensorflow:From <ipython-input-14-72aab98239ce>:58: initialize_all_variables (from tensorflow.python.ops.variables) is deprecated and will be removed after 2017-03-02.\n",
      "Instructions for updating:\n",
      "Use `tf.global_variables_initializer` instead.\n",
      "Initialized 0.0001\n",
      "10.9:33.0 | 80.5:84.1 | 90.6:85.3 | 85.9:86.1 | 79.7:86.5 | 84.4:87.0 | 92.2:87.0 | 89.1:87.7 | 87.5:87.0 | 89.1:87.7 | 88.3:87.9 | \n",
      "Test accuracy: 93.9%\n",
      "WARNING:tensorflow:From <ipython-input-14-72aab98239ce>:58: initialize_all_variables (from tensorflow.python.ops.variables) is deprecated and will be removed after 2017-03-02.\n",
      "Instructions for updating:\n",
      "Use `tf.global_variables_initializer` instead.\n",
      "Initialized 1e-05\n",
      "12.5:34.1 | 83.6:83.5 | 90.6:85.0 | 85.2:86.0 | 80.5:85.1 | 85.2:87.2 | 93.0:87.0 | 86.7:87.9 | 89.8:87.2 | 89.8:87.9 | 92.2:87.9 | \n",
      "Test accuracy: 94.0%\n"
     ]
    }
   ],
   "source": [
    "def trainNetwork(loss_coef,train_size=None):\n",
    "    if train_size is None:\n",
    "        train_size = train_labels.shape[0]\n",
    "    batch_size = 128\n",
    "    number_of_hidden_nodes = 1024\n",
    "\n",
    "\n",
    "\n",
    "    graph = tf.Graph()\n",
    "    with graph.as_default():\n",
    "\n",
    "        # Input data. For the training data, we use a placeholder that will be fed\n",
    "        # at run time with a training minibatch.\n",
    "        tf_train_dataset = tf.placeholder(tf.float32,\n",
    "                                          shape=(batch_size, image_size * image_size))\n",
    "        tf_train_labels = tf.placeholder(\n",
    "            tf.float32, shape=(batch_size, num_labels))\n",
    "        tf_valid_dataset = tf.constant(valid_dataset)\n",
    "        tf_test_dataset = tf.constant(test_dataset)\n",
    "\n",
    "        # Variables.\n",
    "        weights_1 = generateWeight(\n",
    "                [image_size * image_size, number_of_hidden_nodes])\n",
    "        biases_1 = generateBias([number_of_hidden_nodes])\n",
    "\n",
    "        layer_1 = tf.nn.relu(tf.matmul(tf_train_dataset, weights_1) + biases_1)\n",
    "        loss_1 = loss_coef * tf.nn.l2_loss(weights_1)\n",
    "\n",
    "        weights_2 = generateWeight([number_of_hidden_nodes, num_labels])\n",
    "        biases_2 = generateBias([num_labels])\n",
    "\n",
    "        logits = tf.matmul(layer_1, weights_2) + biases_2\n",
    "        layer_2 = tf.nn.softmax_cross_entropy_with_logits(logits=logits, labels=tf_train_labels)\n",
    "        loss_2 = loss_coef * tf.nn.l2_loss(weights_2)\n",
    "        loss = tf.add(tf.reduce_mean(layer_2), tf.add(loss_1, loss_2))\n",
    "\n",
    "        # Training computation.\n",
    "        # logits = tf.matmul(tf_train_dataset, weights) + biases\n",
    "        # loss = tf.reduce_mean(\n",
    "        #     tf.nn.softmax_cross_entropy_with_logits(logits, tf_train_labels))\n",
    "\n",
    "        # Optimizer.\n",
    "        optimizer = tf.train.GradientDescentOptimizer(0.5).minimize(loss)\n",
    "\n",
    "        # Predictions for the training, validation, and test data.\n",
    "        train_prediction = tf.nn.softmax(logits)\n",
    "        layer_1_valid = tf.nn.relu(\n",
    "            tf.matmul(tf_valid_dataset, weights_1) + biases_1)\n",
    "        valid_logits = tf.matmul(layer_1_valid, weights_2) + biases_2\n",
    "        valid_prediction = tf.nn.softmax(valid_logits)\n",
    "        layer_1_test = tf.nn.relu(tf.matmul(tf_test_dataset, weights_1) + biases_1)\n",
    "        test_logits = tf.matmul(layer_1_test, weights_2) + biases_2\n",
    "        test_prediction = tf.nn.softmax(test_logits)\n",
    "\n",
    "    num_steps = 3001\n",
    "\n",
    "    with tf.Session(graph=graph) as session:\n",
    "        tf.initialize_all_variables().run()\n",
    "        print(\"Initialized\",loss_coef)\n",
    "        for step in range(num_steps):\n",
    "            # Pick an offset within the training data, which has been randomized.\n",
    "            # Note: we could use better randomization across epochs.\n",
    "#           offset = (step * batch_size) % (train_labels.shape[0] - batch_size)\n",
    "            offset = (step * batch_size) % (train_size - batch_size)\n",
    "            # Generate a minibatch.\n",
    "            batch_data = train_dataset[offset:(offset + batch_size), :]\n",
    "            batch_labels = train_labels[offset:(offset + batch_size), :]\n",
    "            # Prepare a dictionary telling the session where to feed the minibatch.\n",
    "            # The key of the dictionary is the placeholder node of the graph to be fed,\n",
    "            # and the value is the numpy array to feed to it.\n",
    "            feed_dict = {tf_train_dataset : batch_data, tf_train_labels : batch_labels}\n",
    "            _, l, predictions = session.run(\n",
    "              [optimizer, loss, train_prediction], feed_dict=feed_dict)\n",
    "            if (step % 300 == 0):\n",
    "                print(\"%2.1f:%2.1f\" %(accuracy(predictions, batch_labels),accuracy(valid_prediction.eval(), valid_labels)),end=\" | \")\n",
    "\n",
    "        print(\"\\nTest accuracy: %.1f%%\" % accuracy(test_prediction.eval(), test_labels))\n",
    "\n",
    "for loss_coef in [1e-1,1e-2,1e-3,1e-4,1e-5]:\n",
    "    trainNetwork(loss_coef)"
   ]
  },
  {
   "cell_type": "markdown",
   "metadata": {
    "colab_type": "text",
    "deletable": true,
    "editable": true,
    "id": "na8xX2yHZzNF"
   },
   "source": [
    "---\n",
    "Problem 2\n",
    "---------\n",
    "Let's demonstrate an extreme case of overfitting. Restrict your training data to just a few batches. What happens?\n",
    "\n",
    "---"
   ]
  },
  {
   "cell_type": "code",
   "execution_count": 15,
   "metadata": {
    "collapsed": false
   },
   "outputs": [
    {
     "name": "stdout",
     "output_type": "stream",
     "text": [
      "WARNING:tensorflow:From <ipython-input-14-72aab98239ce>:58: initialize_all_variables (from tensorflow.python.ops.variables) is deprecated and will be removed after 2017-03-02.\n",
      "Instructions for updating:\n",
      "Use `tf.global_variables_initializer` instead.\n",
      "Initialized 0\n",
      "9.4:29.7 | 100.0:73.7 | 100.0:73.9 | 100.0:74.0 | 100.0:74.2 | 100.0:74.2 | 100.0:74.3 | 100.0:74.3 | 100.0:74.4 | 100.0:74.4 | 100.0:74.5 | \n",
      "Test accuracy: 82.2%\n"
     ]
    }
   ],
   "source": [
    "trainNetwork(0,128*3)"
   ]
  },
  {
   "cell_type": "markdown",
   "metadata": {
    "colab_type": "text",
    "deletable": true,
    "editable": true,
    "id": "ww3SCBUdlkRc"
   },
   "source": [
    "---\n",
    "Problem 3\n",
    "---------\n",
    "Introduce Dropout on the hidden layer of the neural network. Remember: Dropout should only be introduced during training, not evaluation, otherwise your evaluation results would be stochastic as well. TensorFlow provides `nn.dropout()` for that, but you have to make sure it's only inserted during training.\n",
    "\n",
    "What happens to our extreme overfitting case?\n",
    "\n",
    "---"
   ]
  },
  {
   "cell_type": "code",
   "execution_count": 16,
   "metadata": {
    "collapsed": false
   },
   "outputs": [
    {
     "ename": "ValueError",
     "evalue": "Only call `softmax_cross_entropy_with_logits` with named arguments (labels=..., logits=..., ...)",
     "output_type": "error",
     "traceback": [
      "\u001b[0;31m---------------------------------------------------------------------------\u001b[0m",
      "\u001b[0;31mValueError\u001b[0m                                Traceback (most recent call last)",
      "\u001b[0;32m<ipython-input-16-6e8430a5730a>\u001b[0m in \u001b[0;36m<module>\u001b[0;34m()\u001b[0m\n\u001b[1;32m     80\u001b[0m         \u001b[0;32mprint\u001b[0m\u001b[0;34m(\u001b[0m\u001b[0;34m\"\\nTest accuracy: %.1f%%\"\u001b[0m \u001b[0;34m%\u001b[0m \u001b[0maccuracy\u001b[0m\u001b[0;34m(\u001b[0m\u001b[0mtest_prediction\u001b[0m\u001b[0;34m.\u001b[0m\u001b[0meval\u001b[0m\u001b[0;34m(\u001b[0m\u001b[0mfeed_dict\u001b[0m\u001b[0;34m=\u001b[0m\u001b[0;34m{\u001b[0m\u001b[0mkeep_prob\u001b[0m\u001b[0;34m:\u001b[0m\u001b[0;36m1.0\u001b[0m\u001b[0;34m}\u001b[0m\u001b[0;34m)\u001b[0m\u001b[0;34m,\u001b[0m \u001b[0mtest_labels\u001b[0m\u001b[0;34m)\u001b[0m\u001b[0;34m)\u001b[0m\u001b[0;34m\u001b[0m\u001b[0m\n\u001b[1;32m     81\u001b[0m \u001b[0mstart\u001b[0m\u001b[0;34m=\u001b[0m\u001b[0mtime\u001b[0m\u001b[0;34m(\u001b[0m\u001b[0;34m)\u001b[0m\u001b[0;34m\u001b[0m\u001b[0m\n\u001b[0;32m---> 82\u001b[0;31m \u001b[0mtrainNetwork\u001b[0m\u001b[0;34m(\u001b[0m\u001b[0;36m1e-4\u001b[0m\u001b[0;34m)\u001b[0m\u001b[0;34m\u001b[0m\u001b[0m\n\u001b[0m\u001b[1;32m     83\u001b[0m \u001b[0;32mprint\u001b[0m\u001b[0;34m(\u001b[0m\u001b[0;34m'it took'\u001b[0m\u001b[0;34m,\u001b[0m\u001b[0mtime\u001b[0m\u001b[0;34m(\u001b[0m\u001b[0;34m)\u001b[0m\u001b[0;34m-\u001b[0m\u001b[0mstart\u001b[0m\u001b[0;34m)\u001b[0m\u001b[0;34m\u001b[0m\u001b[0m\n",
      "\u001b[0;32m<ipython-input-16-6e8430a5730a>\u001b[0m in \u001b[0;36mtrainNetwork\u001b[0;34m(loss_coef, train_size)\u001b[0m\n\u001b[1;32m     34\u001b[0m \u001b[0;34m\u001b[0m\u001b[0m\n\u001b[1;32m     35\u001b[0m         \u001b[0mlogits\u001b[0m \u001b[0;34m=\u001b[0m \u001b[0mtf\u001b[0m\u001b[0;34m.\u001b[0m\u001b[0mmatmul\u001b[0m\u001b[0;34m(\u001b[0m\u001b[0mlayer_1_drop\u001b[0m\u001b[0;34m,\u001b[0m \u001b[0mweights_2\u001b[0m\u001b[0;34m)\u001b[0m \u001b[0;34m+\u001b[0m \u001b[0mbiases_2\u001b[0m\u001b[0;34m\u001b[0m\u001b[0m\n\u001b[0;32m---> 36\u001b[0;31m         \u001b[0mlayer_2\u001b[0m \u001b[0;34m=\u001b[0m \u001b[0mtf\u001b[0m\u001b[0;34m.\u001b[0m\u001b[0mnn\u001b[0m\u001b[0;34m.\u001b[0m\u001b[0msoftmax_cross_entropy_with_logits\u001b[0m\u001b[0;34m(\u001b[0m\u001b[0mlogits\u001b[0m\u001b[0;34m,\u001b[0m \u001b[0mtf_train_labels\u001b[0m\u001b[0;34m)\u001b[0m\u001b[0;34m\u001b[0m\u001b[0m\n\u001b[0m\u001b[1;32m     37\u001b[0m         \u001b[0mloss_2\u001b[0m \u001b[0;34m=\u001b[0m \u001b[0mloss_coef\u001b[0m \u001b[0;34m*\u001b[0m \u001b[0mtf\u001b[0m\u001b[0;34m.\u001b[0m\u001b[0mnn\u001b[0m\u001b[0;34m.\u001b[0m\u001b[0ml2_loss\u001b[0m\u001b[0;34m(\u001b[0m\u001b[0mweights_2\u001b[0m\u001b[0;34m)\u001b[0m\u001b[0;34m\u001b[0m\u001b[0m\n\u001b[1;32m     38\u001b[0m         \u001b[0mloss\u001b[0m \u001b[0;34m=\u001b[0m \u001b[0mtf\u001b[0m\u001b[0;34m.\u001b[0m\u001b[0madd\u001b[0m\u001b[0;34m(\u001b[0m\u001b[0mtf\u001b[0m\u001b[0;34m.\u001b[0m\u001b[0mreduce_mean\u001b[0m\u001b[0;34m(\u001b[0m\u001b[0mlayer_2\u001b[0m\u001b[0;34m)\u001b[0m\u001b[0;34m,\u001b[0m \u001b[0mtf\u001b[0m\u001b[0;34m.\u001b[0m\u001b[0madd\u001b[0m\u001b[0;34m(\u001b[0m\u001b[0mloss_1\u001b[0m\u001b[0;34m,\u001b[0m \u001b[0mloss_2\u001b[0m\u001b[0;34m)\u001b[0m\u001b[0;34m)\u001b[0m\u001b[0;34m\u001b[0m\u001b[0m\n",
      "\u001b[0;32m/usr/local/lib/python2.7/dist-packages/tensorflow/python/ops/nn_ops.pyc\u001b[0m in \u001b[0;36msoftmax_cross_entropy_with_logits\u001b[0;34m(_sentinel, labels, logits, dim, name)\u001b[0m\n\u001b[1;32m   1576\u001b[0m   \"\"\"\n\u001b[1;32m   1577\u001b[0m   _ensure_xent_args(\"softmax_cross_entropy_with_logits\", _sentinel,\n\u001b[0;32m-> 1578\u001b[0;31m                     labels, logits)\n\u001b[0m\u001b[1;32m   1579\u001b[0m \u001b[0;34m\u001b[0m\u001b[0m\n\u001b[1;32m   1580\u001b[0m   \u001b[0;31m# TODO(pcmurray) Raise an error when the labels do not sum to 1. Note: This\u001b[0m\u001b[0;34m\u001b[0m\u001b[0;34m\u001b[0m\u001b[0m\n",
      "\u001b[0;32m/usr/local/lib/python2.7/dist-packages/tensorflow/python/ops/nn_ops.pyc\u001b[0m in \u001b[0;36m_ensure_xent_args\u001b[0;34m(name, sentinel, labels, logits)\u001b[0m\n\u001b[1;32m   1531\u001b[0m   \u001b[0;32mif\u001b[0m \u001b[0msentinel\u001b[0m \u001b[0;32mis\u001b[0m \u001b[0;32mnot\u001b[0m \u001b[0mNone\u001b[0m\u001b[0;34m:\u001b[0m\u001b[0;34m\u001b[0m\u001b[0m\n\u001b[1;32m   1532\u001b[0m     raise ValueError(\"Only call `%s` with \"\n\u001b[0;32m-> 1533\u001b[0;31m                      \"named arguments (labels=..., logits=..., ...)\" % name)\n\u001b[0m\u001b[1;32m   1534\u001b[0m   \u001b[0;32mif\u001b[0m \u001b[0mlabels\u001b[0m \u001b[0;32mis\u001b[0m \u001b[0mNone\u001b[0m \u001b[0;32mor\u001b[0m \u001b[0mlogits\u001b[0m \u001b[0;32mis\u001b[0m \u001b[0mNone\u001b[0m\u001b[0;34m:\u001b[0m\u001b[0;34m\u001b[0m\u001b[0m\n\u001b[1;32m   1535\u001b[0m     \u001b[0;32mraise\u001b[0m \u001b[0mValueError\u001b[0m\u001b[0;34m(\u001b[0m\u001b[0;34m\"Both labels and logits must be provided.\"\u001b[0m\u001b[0;34m)\u001b[0m\u001b[0;34m\u001b[0m\u001b[0m\n",
      "\u001b[0;31mValueError\u001b[0m: Only call `softmax_cross_entropy_with_logits` with named arguments (labels=..., logits=..., ...)"
     ]
    }
   ],
   "source": [
    "from time import time\n",
    "def trainNetwork(loss_coef,train_size=None):\n",
    "    if train_size is None:\n",
    "        train_size = train_labels.shape[0]\n",
    "    batch_size = 128\n",
    "    number_of_hidden_nodes = 1024\n",
    "\n",
    "\n",
    "\n",
    "    graph = tf.Graph()\n",
    "    with graph.as_default():\n",
    "\n",
    "        # Input data. For the training data, we use a placeholder that will be fed\n",
    "        # at run time with a training minibatch.\n",
    "        tf_train_dataset = tf.placeholder(tf.float32,\n",
    "                                          shape=(None, image_size * image_size))\n",
    "        tf_train_labels = tf.placeholder(\n",
    "            tf.float32, shape=(None, num_labels))\n",
    "        tf_valid_dataset = tf.constant(valid_dataset)\n",
    "        tf_test_dataset = tf.constant(test_dataset)\n",
    "\n",
    "        # Variables.\n",
    "        weights_1 = generateWeight(\n",
    "                [image_size * image_size, number_of_hidden_nodes])\n",
    "        biases_1 = generateBias([number_of_hidden_nodes])\n",
    "\n",
    "        layer_1 = tf.nn.relu(tf.matmul(tf_train_dataset, weights_1) + biases_1)\n",
    "        keep_prob = tf.placeholder(tf.float32)\n",
    "        layer_1_drop = tf.nn.dropout(layer_1,keep_prob)\n",
    "        loss_1 = loss_coef * tf.nn.l2_loss(weights_1)\n",
    "\n",
    "        weights_2 = generateWeight([number_of_hidden_nodes, num_labels])\n",
    "        biases_2 = generateBias([num_labels])\n",
    "\n",
    "        logits = tf.matmul(layer_1_drop, weights_2) + biases_2\n",
    "        layer_2 = tf.nn.softmax_cross_entropy_with_logits(logits, tf_train_labels)\n",
    "        loss_2 = loss_coef * tf.nn.l2_loss(weights_2)\n",
    "        loss = tf.add(tf.reduce_mean(layer_2), tf.add(loss_1, loss_2))\n",
    "\n",
    "        # Training computation.\n",
    "        # logits = tf.matmul(tf_train_dataset, weights) + biases\n",
    "        # loss = tf.reduce_mean(\n",
    "        #     tf.nn.softmax_cross_entropy_with_logits(logits, tf_train_labels))\n",
    "\n",
    "        # Optimizer.\n",
    "        optimizer = tf.train.GradientDescentOptimizer(0.5).minimize(loss)\n",
    "\n",
    "        # Predictions for the training, validation, and test data.\n",
    "        train_prediction = tf.nn.softmax(logits)\n",
    "        layer_1_valid = tf.nn.relu(\n",
    "            tf.matmul(tf_valid_dataset, weights_1) + biases_1)\n",
    "        valid_logits = tf.matmul(layer_1_valid, weights_2) + biases_2\n",
    "        valid_prediction = tf.nn.softmax(valid_logits)\n",
    "        layer_1_test = tf.nn.relu(tf.matmul(tf_test_dataset, weights_1) + biases_1)\n",
    "        test_logits = tf.matmul(layer_1_test, weights_2) + biases_2\n",
    "        test_prediction = tf.nn.softmax(test_logits)\n",
    "\n",
    "    num_steps = 301\n",
    "\n",
    "    with tf.Session(graph=graph) as session:\n",
    "        tf.initialize_all_variables().run()\n",
    "        print(\"Initialized\",loss_coef)\n",
    "        for step in range(num_steps):\n",
    "            # Pick an offset within the training data, which has been randomized.\n",
    "            # Note: we could use better randomization across epochs.\n",
    "#           offset = (step * batch_size) % (train_labels.shape[0] - batch_size)\n",
    "            offset = (step * batch_size) % (train_size - batch_size)\n",
    "            # Generate a minibatch.\n",
    "            batch_data = train_dataset[offset:(offset + batch_size), :]\n",
    "            batch_labels = train_labels[offset:(offset + batch_size), :]\n",
    "            # Prepare a dictionary telling the session where to feed the minibatch.\n",
    "            # The key of the dictionary is the placeholder node of the graph to be fed,\n",
    "            # and the value is the numpy array to feed to it.\n",
    "            feed_dict = {tf_train_dataset : batch_data, tf_train_labels : batch_labels,keep_prob:.5}\n",
    "            _, l, predictions = session.run(\n",
    "              [optimizer, loss, train_prediction], feed_dict=feed_dict)\n",
    "            if (step % 300 == 0):\n",
    "                print(\"%2.1f:%2.1f\" %(accuracy(predictions, batch_labels),accuracy(valid_prediction.eval(feed_dict={keep_prob:1.0}), valid_labels)),end=\" | \")\n",
    "\n",
    "        print(\"\\nTest accuracy: %.1f%%\" % accuracy(test_prediction.eval(feed_dict={keep_prob:1.0}), test_labels))\n",
    "start=time()\n",
    "trainNetwork(1e-4)\n",
    "print('it took',time()-start)"
   ]
  },
  {
   "cell_type": "markdown",
   "metadata": {
    "colab_type": "text",
    "deletable": true,
    "editable": true,
    "id": "-b1hTz3VWZjw"
   },
   "source": [
    "---\n",
    "Problem 4\n",
    "---------\n",
    "\n",
    "Try to get the best performance you can using a multi-layer model! The best reported test accuracy using a deep network is [97.1%](http://yaroslavvb.blogspot.com/2011/09/notmnist-dataset.html?showComment=1391023266211#c8758720086795711595).\n",
    "\n",
    "One avenue you can explore is to add multiple layers.\n",
    "\n",
    "Another one is to use learning rate decay:\n",
    "\n",
    "    global_step = tf.Variable(0)  # count the number of steps taken.\n",
    "    learning_rate = tf.train.exponential_decay(0.5, global_step, ...)\n",
    "    optimizer = tf.train.GradientDescentOptimizer(learning_rate).minimize(loss, global_step=global_step)\n",
    " \n",
    " ---\n"
   ]
  },
  {
   "cell_type": "code",
   "execution_count": 17,
   "metadata": {
    "collapsed": false
   },
   "outputs": [
    {
     "name": "stdout",
     "output_type": "stream",
     "text": [
      "WARNING:tensorflow:From <ipython-input-17-0ce40753d564>:71: initialize_all_variables (from tensorflow.python.ops.variables) is deprecated and will be removed after 2017-03-02.\n",
      "Instructions for updating:\n",
      "Use `tf.global_variables_initializer` instead.\n",
      "Initialized 0.0001\n",
      "Minibatch loss, step 0: 4.238007 | 10.9:13.1\n",
      "Minibatch loss, step 1500: 0.709673 | 82.8:86.3\n",
      "Minibatch loss, step 3000: 0.594016 | 83.6:87.7\n",
      "Minibatch loss, step 4500: 0.362828 | 93.8:88.6\n",
      "Minibatch loss, step 6000: 0.422466 | 91.4:89.0\n",
      "Minibatch loss, step 7500: 0.472179 | 89.8:89.3\n",
      "Minibatch loss, step 9000: 0.362693 | 90.6:89.5\n",
      "Minibatch loss, step 10500: 0.351897 | 91.4:89.8\n",
      "Minibatch loss, step 12000: 0.352223 | 91.4:89.7\n",
      "Minibatch loss, step 13500: 0.452159 | 89.8:90.1\n",
      "Minibatch loss, step 15000: 0.460497 | 89.1:90.0\n",
      "\n",
      "Test accuracy: 95.5%\n",
      "it took 807.63330698\n"
     ]
    }
   ],
   "source": [
    "from time import time\n",
    "\n",
    "def trainNetwork(regularization_coef, num_steps, report_count=None, train_size=None):\n",
    "    if report_count is None:\n",
    "        report_count = num_steps // 10\n",
    "    if train_size is None:\n",
    "        train_size = train_labels.shape[0]\n",
    "    batch_size = 128\n",
    "\n",
    "    neuron_count_input = image_size * image_size\n",
    "    neuron_count_1 = 400\n",
    "    neuron_count_2 = 300\n",
    "    neuron_count_output = num_labels\n",
    "\n",
    "    graph = tf.Graph()\n",
    "    with graph.as_default():\n",
    "\n",
    "        # Input data. For the training data, we use a placeholder that will be fed\n",
    "        # at run time with a training minibatch.\n",
    "        keep_prob = tf.placeholder(tf.float32)\n",
    "        global_step = tf.Variable(0,trainable=False)\n",
    "        learning_rate = tf.train.exponential_decay(.5,global_step,report_count,.8)\n",
    "        tf_train_dataset = tf.placeholder(tf.float32,\n",
    "                                          shape=(None, neuron_count_input))\n",
    "        tf_train_labels = tf.placeholder(\n",
    "            tf.float32, shape=(None, num_labels))\n",
    "        tf_valid_dataset = tf.constant(valid_dataset)\n",
    "        tf_test_dataset = tf.constant(test_dataset)\n",
    "\n",
    "        # layer 1: from input to first hidden layer\n",
    "        weights_1 = generateWeight(\n",
    "            [neuron_count_input, neuron_count_1])\n",
    "        biases_1 = generateBias([neuron_count_1])\n",
    "\n",
    "        layer_1 = tf.nn.relu(tf.matmul(tf_train_dataset, weights_1) + biases_1)\n",
    "        layer_1_drop = tf.nn.dropout(layer_1, keep_prob)\n",
    "        loss_1 = regularization_coef * tf.nn.l2_loss(weights_1)\n",
    "\n",
    "        # layer 2: from first hidden layer to second\n",
    "        weights_2 = generateWeight([neuron_count_1, neuron_count_2])\n",
    "        biases_2 = generateBias([neuron_count_2])\n",
    "\n",
    "        layer_2 = tf.nn.relu(tf.matmul(layer_1, weights_2) + biases_2)\n",
    "        layer_2_drop = tf.nn.dropout(layer_2, keep_prob)\n",
    "        loss_2 = regularization_coef * tf.nn.l2_loss(weights_2)\n",
    "\n",
    "        # layer 3: from second hidden layer to softmax\n",
    "        weights_3 = generateWeight([neuron_count_2, neuron_count_output])\n",
    "        biases_3 = generateBias([neuron_count_output])\n",
    "        logits = tf.matmul(layer_2_drop, weights_3) + biases_3\n",
    "        output_error = tf.nn.softmax_cross_entropy_with_logits(\n",
    "            logits=logits, labels=tf_train_labels)\n",
    "        loss_3 = regularization_coef * tf.nn.l2_loss(weights_3)\n",
    "\n",
    "        # Optimizer.\n",
    "        model_output = tf.nn.softmax(logits)\n",
    "        corrects = tf.equal(tf.argmax(model_output, 1),\n",
    "                            tf.argmax(tf_train_labels, 1))\n",
    "        performance = tf.reduce_mean(tf.cast(corrects, \"float\"))*100\n",
    "        loss = tf.reduce_mean(output_error) + loss_1 + loss_2 + loss_3\n",
    "        optimizer = tf.train.GradientDescentOptimizer(learning_rate=learning_rate).minimize(loss,global_step=global_step)\n",
    "\n",
    "    with tf.Session(graph=graph) as session:\n",
    "        validation_dict = {tf_train_dataset: valid_dataset,\n",
    "                           tf_train_labels: valid_labels,\n",
    "                           keep_prob: 1.0}\n",
    "        test_dict = {tf_train_dataset: test_dataset,\n",
    "                     tf_train_labels: test_labels,\n",
    "                     keep_prob: 1.0}\n",
    "\n",
    "        tf.initialize_all_variables().run()\n",
    "        print(\"Initialized\", regularization_coef)\n",
    "        for step in range(num_steps):\n",
    "\n",
    "            # get random indices to generate minibatch.\n",
    "            random_indices = np.random.randint(train_size,size=batch_size)\n",
    "\n",
    "            # Prepare a dictionary telling the session where to feed the minibatch.\n",
    "            train_dict = {tf_train_dataset: train_dataset[random_indices],\n",
    "                          tf_train_labels: train_labels[random_indices],\n",
    "                          keep_prob: .5}\n",
    "\n",
    "            # Start the optimization\n",
    "            _,train_performance,loss_value = session.run([optimizer,performance,loss], feed_dict=train_dict)\n",
    "\n",
    "            # Generate report.\n",
    "            if (step % report_count == 0):\n",
    "                print(\"Minibatch loss, step %d: %f\" %\n",
    "                      (step, loss_value),end=\" | \")\n",
    "                valid_performance = performance.eval(feed_dict=validation_dict)\n",
    "                print(\"%2.1f:%2.1f\" % (train_performance, valid_performance))\n",
    "\n",
    "        test_accuracy = performance.eval(feed_dict=test_dict)\n",
    "        print(\"\\nTest accuracy: %.1f%%\" % test_accuracy)\n",
    "\n",
    "start=time()\n",
    "trainNetwork(1e-4, 15001)\n",
    "print(\"it took\",time()-start)"
   ]
  },
  {
   "cell_type": "code",
   "execution_count": null,
   "metadata": {
    "collapsed": true
   },
   "outputs": [],
   "source": []
  }
 ],
 "metadata": {
  "colab": {
   "default_view": {},
   "name": "3_regularization.ipynb",
   "provenance": [],
   "version": "0.3.2",
   "views": {}
  },
  "kernelspec": {
   "display_name": "Python 2",
   "language": "python",
   "name": "python2"
  },
  "language_info": {
   "codemirror_mode": {
    "name": "ipython",
    "version": 2
   },
   "file_extension": ".py",
   "mimetype": "text/x-python",
   "name": "python",
   "nbconvert_exporter": "python",
   "pygments_lexer": "ipython2",
   "version": "2.7.6"
  }
 },
 "nbformat": 4,
 "nbformat_minor": 0
}
